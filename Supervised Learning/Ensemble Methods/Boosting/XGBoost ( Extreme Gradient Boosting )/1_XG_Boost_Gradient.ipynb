{
  "nbformat": 4,
  "nbformat_minor": 0,
  "metadata": {
    "colab": {
      "provenance": []
    },
    "kernelspec": {
      "name": "python3",
      "display_name": "Python 3"
    },
    "language_info": {
      "name": "python"
    }
  },
  "cells": [
    {
      "cell_type": "code",
      "execution_count": null,
      "metadata": {
        "id": "dn_TYl69Jlmd"
      },
      "outputs": [],
      "source": [
        "import xgboost as xgb\n",
        "from sklearn.datasets import load_iris\n",
        "from sklearn.model_selection import train_test_split\n",
        "from sklearn.metrics import accuracy_score"
      ]
    },
    {
      "cell_type": "code",
      "source": [
        "# Load Iris dataset\n",
        "data = load_iris()\n",
        "X = data.data\n",
        "y = data.target"
      ],
      "metadata": {
        "id": "Z9ohiByLGlvP"
      },
      "execution_count": null,
      "outputs": []
    },
    {
      "cell_type": "code",
      "source": [
        "# Load Iris dataset\n",
        "data = load_iris()\n",
        "X = data.data\n",
        "y = data.target"
      ],
      "metadata": {
        "id": "inewYADMSmOW"
      },
      "execution_count": null,
      "outputs": []
    },
    {
      "cell_type": "code",
      "source": [
        "# Split into training and test sets\n",
        "X_train, X_test, y_train, y_test = train_test_split(X, y, test_size=0.2, random_state=42)"
      ],
      "metadata": {
        "id": "9Vk-DdhlFV9Z"
      },
      "execution_count": null,
      "outputs": []
    },
    {
      "cell_type": "code",
      "source": [
        "dtrain = xgb.DMatrix(X_train, label=y_train)\n",
        "dtest = xgb.DMatrix(X_test, label=y_test)"
      ],
      "metadata": {
        "id": "ix0u9BKdE6Ee"
      },
      "execution_count": null,
      "outputs": []
    },
    {
      "cell_type": "code",
      "source": [
        "params = {\n",
        "    'objective': 'multi:softmax',  # Multi-class classification\n",
        "    'eval_metric': 'merror',       # Multi-class error rate\n",
        "    'num_class': 3,                # Number of classes in the Iris dataset\n",
        "    'max_depth': 4,                # Maximum depth of trees\n",
        "    'eta': 0.1,                    # Learning rate\n",
        "    'subsample': 0.8,              # Subsample ratio\n",
        "    'colsample_bytree': 0.8        # Subsample ratio of features\n",
        "}\n"
      ],
      "metadata": {
        "id": "lywttjpKE74u"
      },
      "execution_count": null,
      "outputs": []
    },
    {
      "cell_type": "code",
      "source": [
        "num_round = 100  # Number of boosting rounds\n",
        "bst = xgb.train(params, dtrain, num_round)"
      ],
      "metadata": {
        "id": "WRYEE4RDHvML"
      },
      "execution_count": null,
      "outputs": []
    },
    {
      "cell_type": "code",
      "source": [
        "num_round = 100  # Number of boosting rounds\n",
        "bst = xgb.train(params, dtrain, num_round)"
      ],
      "metadata": {
        "id": "tuMS4ZqGH7Ow"
      },
      "execution_count": null,
      "outputs": []
    },
    {
      "cell_type": "code",
      "source": [
        "# Make predictions on the test set\n",
        "preds = bst.predict(dtest)\n"
      ],
      "metadata": {
        "id": "eQ6E_xv1IC9Q"
      },
      "execution_count": null,
      "outputs": []
    },
    {
      "cell_type": "code",
      "source": [
        "# Evaluate the model\n",
        "testaccuracy = accuracy_score(y_test, preds)\n",
        "print(f\"Accuracy: {testaccuracy:4f}\")\n",
        "\n",
        "# Evaluate the model\n",
        "trainaccuracy = accuracy_score(y_train, bst.predict(dtrain))\n",
        "print(f\"Accuracy: {trainaccuracy:4f}\")"
      ],
      "metadata": {
        "colab": {
          "base_uri": "https://localhost:8080/"
        },
        "id": "eK-FKlVuH9Pm",
        "outputId": "0651b425-6176-4598-aeca-2666c906fb6d"
      },
      "execution_count": null,
      "outputs": [
        {
          "output_type": "stream",
          "name": "stdout",
          "text": [
            "Accuracy: 1.000000\n",
            "Accuracy: 1.000000\n"
          ]
        }
      ]
    },
    {
      "cell_type": "code",
      "source": [],
      "metadata": {
        "id": "Q6WiBagSH--S"
      },
      "execution_count": null,
      "outputs": []
    }
  ]
}